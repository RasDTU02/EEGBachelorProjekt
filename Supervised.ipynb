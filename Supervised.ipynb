{
 "cells": [
  {
   "cell_type": "markdown",
   "metadata": {},
   "source": [
    "## Package Initialization"
   ]
  },
  {
   "cell_type": "code",
   "execution_count": 2,
   "metadata": {},
   "outputs": [],
   "source": [
    "import numpy as np\n",
    "import os\n",
    "import pandas as pd\n",
    "import sklearn\n",
    "from sklearn.preprocessing import StandardScaler, label_binarize\n",
    "import matplotlib.pyplot as plt\n",
    "from sklearn.mixture import GaussianMixture\n",
    "from mpl_toolkits.mplot3d import Axes3D\n",
    "from matplotlib.patches import Ellipse\n",
    "import matplotlib.cm as cm\n",
    "from sklearn.model_selection import train_test_split\n",
    "from sklearn.linear_model import LogisticRegression\n",
    "from sklearn.metrics import accuracy_score, classification_report, confusion_matrix, roc_curve, roc_auc_score\n",
    "from sklearn.svm import SVC\n",
    "\n",
    "os.environ[\"OMP_NUM_THREADS\"] = '1'\n",
    "import warnings\n",
    "import matplotlib.pyplot as plt\n",
    "from sklearn.decomposition import PCA\n",
    "from scipy.ndimage import gaussian_filter1d\n",
    "from matplotlib.lines import Line2D\n",
    "from sklearn.metrics import silhouette_score\n",
    "from sklearn.metrics import davies_bouldin_score\n",
    "warnings.filterwarnings('ignore')"
   ]
  },
  {
   "cell_type": "markdown",
   "metadata": {},
   "source": [
    "# Multi-class Supervised Machine-learning for Audiotory Stimuli on Comatose Patients"
   ]
  },
  {
   "cell_type": "markdown",
   "metadata": {},
   "source": [
    "This is a sandbox for intializing supervised learning on this project."
   ]
  },
  {
   "cell_type": "markdown",
   "metadata": {},
   "source": [
    "The main idea is to use machine learning to classify EEG responses to different audiotory stimuli.\n",
    "\n",
    "The labels will be resting, medical and familiar.\n",
    "These three labels will be used, in order for the model to predict stimuli category from unseen epochs. \n",
    "The main goal will be to evaluate the model with accuracy, precision and recall from a confusion matrix and ROC-curve"
   ]
  },
  {
   "cell_type": "markdown",
   "metadata": {},
   "source": [
    "## Data importing"
   ]
  },
  {
   "cell_type": "code",
   "execution_count": 3,
   "metadata": {},
   "outputs": [
    {
     "name": "stdout",
     "output_type": "stream",
     "text": [
      "Loaded and balanced data for patient p10\n",
      "Loaded and balanced data for patient p11\n",
      "Loaded and balanced data for patient p12\n",
      "Loaded and balanced data for patient p13\n",
      "Loaded and balanced data for patient p14\n",
      "Loaded and balanced data for patient p15\n",
      "Loaded and balanced data for patient p16\n",
      "Loaded and balanced data for patient p17\n",
      "Loaded and balanced data for patient p18\n",
      "Loaded and balanced data for patient p19\n",
      "Loaded and balanced data for patient p20\n",
      "Loaded and balanced data for patient p21\n",
      "Loaded and balanced data for patient p22\n",
      "Loaded and balanced data for patient p23\n",
      "Loaded and balanced data for patient p24\n",
      "Loaded and balanced data for patient p25\n",
      "Loaded and balanced data for patient p27\n",
      "Loaded and balanced data for patient p28\n",
      "Loaded and balanced data for patient p29\n",
      "Loaded and balanced data for patient p2\n",
      "Loaded and balanced data for patient p30\n",
      "Loaded and balanced data for patient p31\n",
      "Loaded and balanced data for patient p32\n",
      "Loaded and balanced data for patient p33\n",
      "Loaded and balanced data for patient p34\n",
      "Loaded and balanced data for patient p35\n",
      "Loaded and balanced data for patient p36\n",
      "Loaded and balanced data for patient p37\n",
      "Loaded and balanced data for patient p38\n",
      "Loaded and balanced data for patient p39\n",
      "Loaded and balanced data for patient p3\n",
      "Loaded and balanced data for patient p40\n",
      "Loaded and balanced data for patient p41\n",
      "Loaded and balanced data for patient p42\n",
      "Loaded and balanced data for patient p43\n",
      "Loaded and balanced data for patient p44\n",
      "Loaded and balanced data for patient p45\n",
      "Loaded and balanced data for patient p46\n",
      "Loaded and balanced data for patient p47\n",
      "Loaded and balanced data for patient p48\n",
      "Loaded and balanced data for patient p49\n",
      "Loaded and balanced data for patient p4\n",
      "Loaded and balanced data for patient p50\n",
      "Loaded and balanced data for patient p51\n",
      "Loaded and balanced data for patient p52\n",
      "Loaded and balanced data for patient p53\n",
      "Loaded and balanced data for patient p54\n",
      "Loaded and balanced data for patient p56\n",
      "Loaded and balanced data for patient p57\n",
      "Loaded and balanced data for patient p58\n",
      "Loaded and balanced data for patient p59\n",
      "Loaded and balanced data for patient p5\n",
      "Loaded and balanced data for patient p60\n",
      "Loaded and balanced data for patient p61\n",
      "Loaded and balanced data for patient p62\n",
      "Loaded and balanced data for patient p63\n",
      "Loaded and balanced data for patient p65\n",
      "Loaded and balanced data for patient p66\n",
      "Loaded and balanced data for patient p67\n",
      "Loaded and balanced data for patient p68\n",
      "Loaded and balanced data for patient p69\n",
      "Loaded and balanced data for patient p6\n",
      "Loaded and balanced data for patient p71\n",
      "Loaded and balanced data for patient p72\n",
      "Loaded and balanced data for patient p73\n",
      "Loaded and balanced data for patient p74\n",
      "Loaded and balanced data for patient p75\n",
      "Loaded and balanced data for patient p76\n",
      "Loaded and balanced data for patient p77\n",
      "Loaded and balanced data for patient p78\n",
      "Loaded and balanced data for patient p79\n",
      "Loaded and balanced data for patient p7\n",
      "Loaded and balanced data for patient p80\n",
      "Loaded and balanced data for patient p8\n",
      "Loaded and balanced data for patient p9\n",
      "     Index  Event  PSD Delta  PSD Delta_N  PSD Theta  PSD Theta_N  PSD Alpha  \\\n",
      "0     1500      0  -0.504771     0.553133  -1.555079    -0.698375  -1.113242   \n",
      "1     1501      0  -1.207551    -0.200215  -1.285578     0.107399  -0.421632   \n",
      "2     1502      0   2.094303     1.615624  -0.218608    -1.599774  -0.972915   \n",
      "3     1503      0   1.165314     1.034839  -0.893731    -1.089175   0.395907   \n",
      "4     1504      0  -0.710573     0.022772  -0.297616     0.286418  -1.010877   \n",
      "..     ...    ...        ...          ...        ...          ...        ...   \n",
      "498    164      2   0.589042     0.698974   0.045155    -0.528814  -0.504985   \n",
      "499    165      2   0.906427     0.762404   1.328347    -0.576830  -0.313717   \n",
      "500    166      2   0.770443     0.821930  -0.580459    -0.749216  -1.230630   \n",
      "501    167      2  -0.073762     0.611102  -1.272547    -0.828587  -0.128509   \n",
      "502    168      2   0.430054    -0.097850   1.072171     0.198259   1.378955   \n",
      "\n",
      "     PSD Alpha_N  PSD Beta  PSD Beta_N  ...  PSD Gamma_N    PSD SE   PSD MSF  \\\n",
      "0      -0.461110 -0.866272    0.574757  ...     0.610070 -0.208458 -0.717660   \n",
      "1       0.099652 -0.046604    0.829567  ...     0.828149  0.559548 -0.149165   \n",
      "2      -1.181398 -1.282925   -1.380736  ...    -1.164509 -1.750320 -1.018849   \n",
      "3      -0.579194 -1.449045   -0.990886  ...    -0.899350 -1.174411 -1.146854   \n",
      "4      -0.634522 -0.883369   -0.109179  ...    -0.154630  0.104931 -0.145400   \n",
      "..           ...       ...         ...  ...          ...       ...       ...   \n",
      "498    -0.765636 -0.506343   -0.855437  ...    -0.723170 -0.873938 -0.973671   \n",
      "499    -0.887728  0.086473   -0.780510  ...    -0.674584 -0.916256 -1.173208   \n",
      "500    -0.718925 -0.837856   -0.838376  ...    -0.224801 -0.915502 -0.608479   \n",
      "501    -0.268198 -0.073444    0.299470  ...     0.341893 -0.650307 -0.638598   \n",
      "502     0.159602 -0.250548   -0.765216  ...    -0.719178  0.495764  0.095551   \n",
      "\n",
      "     PSD Sef90  PSD Sef95        PE      wSMI  Kolmogorov  Freq_Slope mean  \\\n",
      "0    -0.079449   0.452049 -0.135324 -0.296510    0.232978        -0.428410   \n",
      "1     0.738750   0.735636 -0.360464 -0.265355    0.580077         1.816774   \n",
      "2    -1.755760  -1.873936 -2.154975  0.022672   -0.688630        -0.700925   \n",
      "3    -0.959331  -0.805472 -0.276526 -0.767685   -0.604848         1.665729   \n",
      "4    -0.161088   0.230050 -0.436271 -0.012307    0.867331        -0.118670   \n",
      "..         ...        ...       ...       ...         ...              ...   \n",
      "498  -0.538439  -0.680866  0.112377 -0.516586   -0.868164        -0.123899   \n",
      "499  -0.674503  -0.802608 -0.816025  0.670454   -2.938790        -0.161299   \n",
      "500  -1.048226  -1.210801 -0.712358 -0.468067   -1.143450        -0.178490   \n",
      "501  -0.197372   0.264424 -0.032955  0.540103   -1.023760         0.407773   \n",
      "502   0.270689  -0.125150  0.397721  1.004122    0.639922         0.075463   \n",
      "\n",
      "     Freq_Slope std  \n",
      "0          0.710905  \n",
      "1         -0.771131  \n",
      "2          0.648791  \n",
      "3          0.332109  \n",
      "4         -0.876813  \n",
      "..              ...  \n",
      "498       -1.331940  \n",
      "499        0.098511  \n",
      "500        1.881455  \n",
      "501       -0.082253  \n",
      "502       -0.454562  \n",
      "\n",
      "[503 rows x 21 columns]\n",
      "Shape of X (features): (37552, 19)\n",
      "Shape of y (labels): (37552,)\n"
     ]
    }
   ],
   "source": [
    "import os\n",
    "import pandas as pd\n",
    "from sklearn.preprocessing import StandardScaler\n",
    "\n",
    "path = '1_csv'\n",
    "folder = 'C:\\\\Users\\\\RJEN0307\\\\Desktop\\\\Bachelorprojekt\\\\Data\\\\fif files\\\\epochs_csv\\\\'\n",
    "\n",
    "full_path = os.path.join(folder, path)\n",
    "\n",
    "patient_numbers = []\n",
    "patient_data = {}\n",
    "X_all = []\n",
    "y_all = []\n",
    "\n",
    "for file in os.listdir(full_path):\n",
    "    filename = os.fsdecode(file)\n",
    "    patient_number = filename.split('_')[0] \n",
    "    patient_numbers.append(patient_number)\n",
    "    patient_file_dir = os.path.join(full_path, filename)\n",
    "    data = pd.read_csv(patient_file_dir)\n",
    "    data.rename(columns={'Unnamed: 0': 'Index'}, inplace=True)\n",
    "    data['Event'] = data['Event'].map({'R': 0, 'M': 1, 'F': 2})\n",
    "\n",
    "    resting_data = data[data['Event'] == 0]\n",
    "    moving_data = data[data['Event'] == 1]\n",
    "    familiar_data = data[data['Event'] == 2]\n",
    "\n",
    "    target_count = min(moving_data.shape[0], familiar_data.shape[0])\n",
    "\n",
    "    resting_data = resting_data.iloc[-target_count:]\n",
    "\n",
    "    resting_data = resting_data.reset_index(drop=True)\n",
    "    moving_data = moving_data.reset_index(drop=True)\n",
    "    familiar_data = familiar_data.reset_index(drop=True)\n",
    "\n",
    "    balanced_data = pd.concat([resting_data, moving_data, familiar_data]).reset_index(drop=True)\n",
    "\n",
    "    standarize_list = ['PSD Delta', 'PSD Delta_N', 'PSD Theta', 'PSD Theta_N', 'PSD Alpha', 'PSD Alpha_N', \n",
    "                       'PSD Beta', 'PSD Beta_N', 'PSD Gamma', 'PSD Gamma_N', 'PSD SE', 'PSD MSF', 'PSD Sef90', \n",
    "                       'PSD Sef95', 'PE', 'wSMI', 'Kolmogorov', 'Freq_Slope mean', 'Freq_Slope std']\n",
    "\n",
    "    scaler = StandardScaler()\n",
    "    balanced_data[standarize_list] = scaler.fit_transform(balanced_data[standarize_list])\n",
    "\n",
    "    patient_data[patient_number] = balanced_data\n",
    "    \n",
    "    X = balanced_data[standarize_list].values\n",
    "    y = balanced_data['Event'].values \n",
    "\n",
    "    X_all.append(X)\n",
    "    y_all.append(y)\n",
    "\n",
    "\n",
    "    print(f'Loaded and balanced data for patient {patient_number}')\n",
    "\n",
    "print(patient_data['p10'])\n",
    "\n",
    "X_all = np.vstack(X_all)\n",
    "y_all = np.hstack(y_all)\n",
    "\n",
    "print(\"Shape of X (features):\", X_all.shape)\n",
    "print(\"Shape of y (labels):\", y_all.shape)"
   ]
  },
  {
   "cell_type": "markdown",
   "metadata": {},
   "source": [
    "## Logistic Regression Model"
   ]
  },
  {
   "cell_type": "code",
   "execution_count": 4,
   "metadata": {},
   "outputs": [],
   "source": [
    "X_train, X_test, y_train, y_test = train_test_split(X_all, y_all, test_size=0.2, random_state=42)"
   ]
  },
  {
   "cell_type": "code",
   "execution_count": 5,
   "metadata": {},
   "outputs": [
    {
     "name": "stdout",
     "output_type": "stream",
     "text": [
      "Accuracy: 0.367327919052057\n",
      "[[1064  799  475]\n",
      " [ 848 1041  663]\n",
      " [ 852 1115  654]]\n",
      "[[0.32324677 0.32893934 0.34781389]\n",
      " [0.26559532 0.35340028 0.3810044 ]\n",
      " [0.40479642 0.27667693 0.31852665]\n",
      " ...\n",
      " [0.40955023 0.30413689 0.28631288]\n",
      " [0.23321571 0.40145278 0.36533151]\n",
      " [0.37199551 0.31638043 0.31162406]]\n"
     ]
    }
   ],
   "source": [
    "clf = LogisticRegression()\n",
    "model = clf.fit(X_train, y_train)\n",
    "y_pred = model.predict(X_test)\n",
    "y_score = clf.predict_proba(X_test)\n",
    "print(\"Accuracy:\", accuracy_score(y_test, y_pred))\n",
    "print(confusion_matrix(y_test, y_pred))\n",
    "\n",
    "print(y_score)\n",
    "\n"
   ]
  },
  {
   "cell_type": "markdown",
   "metadata": {},
   "source": [
    "## Support Vector Machine"
   ]
  },
  {
   "cell_type": "code",
   "execution_count": 6,
   "metadata": {},
   "outputs": [],
   "source": [
    "X_train = X_test = y_train = y_test = logistic_model = y_pred = y_score = accuracy = fpr = tpr = roc_auc = clf = None"
   ]
  },
  {
   "cell_type": "code",
   "execution_count": 7,
   "metadata": {},
   "outputs": [],
   "source": [
    "X_train, X_test, y_train, y_test = train_test_split(X_all, y_all, test_size=0.2, random_state=42)"
   ]
  },
  {
   "cell_type": "code",
   "execution_count": 8,
   "metadata": {},
   "outputs": [],
   "source": [
    "svm = SVC(kernel='linear', probability=True, random_state=42, decision_function_shape='ovr')  # 'ovr' is One-vs-Rest\n",
    "clf = svm.fit(X_train, y_train)\n",
    "y_pred = clf.predict(X_test)\n",
    "decision_scores = svm.decision_function(X_test)\n",
    "\n",
    "accuracy = accuracy_score(y_test, y_pred)\n",
    "print(f'Accuracy: {accuracy:.4f}')\n",
    "\n",
    "print(\"\\nClassification Report:\")\n",
    "print(classification_report(y_test, y_pred))\n",
    "\n",
    "print(\"\\nConfusion Matrix:\")\n",
    "print(confusion_matrix(y_test, y_pred))\n",
    "\n",
    "print(\"\\nDecision Function Output (First 5 Samples):\")\n",
    "print(decision_scores[:5])\n"
   ]
  }
 ],
 "metadata": {
  "kernelspec": {
   "display_name": "base",
   "language": "python",
   "name": "python3"
  },
  "language_info": {
   "codemirror_mode": {
    "name": "ipython",
    "version": 3
   },
   "file_extension": ".py",
   "mimetype": "text/x-python",
   "name": "python",
   "nbconvert_exporter": "python",
   "pygments_lexer": "ipython3",
   "version": "3.11.10"
  }
 },
 "nbformat": 4,
 "nbformat_minor": 2
}
